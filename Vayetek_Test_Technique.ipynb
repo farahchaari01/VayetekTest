{
  "nbformat": 4,
  "nbformat_minor": 0,
  "metadata": {
    "colab": {
      "provenance": [],
      "mount_file_id": "17YUls27TCtIkpl17LwGapMpSWFMkv9VE",
      "authorship_tag": "ABX9TyOw67sHGtWRSrqgZZzWeKc7",
      "include_colab_link": true
    },
    "kernelspec": {
      "name": "python3",
      "display_name": "Python 3"
    },
    "language_info": {
      "name": "python"
    }
  },
  "cells": [
    {
      "cell_type": "markdown",
      "metadata": {
        "id": "view-in-github",
        "colab_type": "text"
      },
      "source": [
        "<a href=\"https://colab.research.google.com/github/farahchaari01/VayetekTest/blob/main/Vayetek_Test_Technique.ipynb\" target=\"_parent\"><img src=\"https://colab.research.google.com/assets/colab-badge.svg\" alt=\"Open In Colab\"/></a>"
      ]
    },
    {
      "cell_type": "code",
      "execution_count": 1,
      "metadata": {
        "colab": {
          "base_uri": "https://localhost:8080/"
        },
        "id": "lKuPyJbCbYld",
        "outputId": "7a7c8e44-92f3-4ff1-a0c9-80c9d6549f6f"
      },
      "outputs": [
        {
          "output_type": "stream",
          "name": "stdout",
          "text": [
            "Mounted at /content/drive\n"
          ]
        }
      ],
      "source": [
        "from google.colab import drive\n",
        "drive.mount('/content/drive')"
      ]
    },
    {
      "cell_type": "code",
      "source": [
        "file_path='/content/drive/MyDrive/document.txt'\n",
        "with open(file_path, 'r') as f:\n",
        "    lignes = f.readlines()"
      ],
      "metadata": {
        "id": "vPhfVOt9bk9Q"
      },
      "execution_count": 13,
      "outputs": []
    },
    {
      "cell_type": "code",
      "source": [
        "print(lignes[:3]) #afficher les 3 premeires lignes"
      ],
      "metadata": {
        "colab": {
          "base_uri": "https://localhost:8080/"
        },
        "id": "tnSPdzo_cFKd",
        "outputId": "bce66009-070a-4611-cecf-fdb7b4a12afd"
      },
      "execution_count": 14,
      "outputs": [
        {
          "output_type": "stream",
          "name": "stdout",
          "text": [
            "['ckmb52fldxkseven3fkjgcbzmnr7\\n', 'gckhqpb6twoqnjxqplthree2fourkspnsnzxlz1\\n', '2onetwocrgbqm7\\n']\n"
          ]
        }
      ]
    },
    {
      "cell_type": "code",
      "source": [
        "def extract_valeur_chaque_ligne(ligne):\n",
        "    premier_chiffre = next((char for char in ligne if char.isdigit()), None)\n",
        "    dernier_chiffre = next((char for char in reversed(ligne) if char.isdigit()), None)\n",
        "    if premier_chiffre is not None and dernier_chiffre is not None:\n",
        "        return int(f\"{premier_chiffre}{dernier_chiffre}\")\n",
        "    return 0\n",
        "\n",
        "\n",
        "file_path='/content/drive/MyDrive/document.txt'\n",
        "def calcul_total_valeurs(file_path):\n",
        "    total = 0\n",
        "    with open(file_path, 'r') as f:\n",
        "        lignes = f.readlines()\n",
        "        for ligne in lignes:\n",
        "            total += extract_valeur_chaque_ligne(ligne.strip())\n",
        "    return total\n",
        "\n",
        "\n",
        "total_valeurs = calcul_total_valeurs(file_path)\n",
        "print(f\"La somme des valeurs d'étalonnage= {total_valeurs}\") #total valeurs de tout le ficheir\n"
      ],
      "metadata": {
        "colab": {
          "base_uri": "https://localhost:8080/"
        },
        "id": "gCrnZziAciYJ",
        "outputId": "b7b4c1ae-dd33-4851-e4cd-2d4f8d6dbaa0"
      },
      "execution_count": 20,
      "outputs": [
        {
          "output_type": "stream",
          "name": "stdout",
          "text": [
            "La somme des valeurs d'étalonnage= 53386\n"
          ]
        }
      ]
    },
    {
      "cell_type": "code",
      "source": [
        "#test\n",
        "print(extract_valeur_chaque_ligne(\"ckmb52fldxkseven3fkjgcbzmnr7\"))"
      ],
      "metadata": {
        "colab": {
          "base_uri": "https://localhost:8080/"
        },
        "id": "GzCbHkGlrLEy",
        "outputId": "e02b5002-9cb9-444b-b528-e560dada6e6d"
      },
      "execution_count": 25,
      "outputs": [
        {
          "output_type": "stream",
          "name": "stdout",
          "text": [
            "57\n"
          ]
        }
      ]
    },
    {
      "cell_type": "code",
      "source": [],
      "metadata": {
        "id": "kCgi0KGIrQWZ"
      },
      "execution_count": null,
      "outputs": []
    }
  ]
}